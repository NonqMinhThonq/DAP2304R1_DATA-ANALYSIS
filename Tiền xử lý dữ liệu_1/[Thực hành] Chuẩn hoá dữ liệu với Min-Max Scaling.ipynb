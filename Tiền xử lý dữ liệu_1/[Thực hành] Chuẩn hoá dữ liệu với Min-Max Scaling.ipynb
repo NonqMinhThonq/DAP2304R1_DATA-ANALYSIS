{
 "cells": [
  {
   "cell_type": "code",
   "execution_count": null,
   "id": "793b58cc",
   "metadata": {},
   "outputs": [],
   "source": [
    "# cong thuc tinh:\n",
    "X_std = (X - X.min(axis = 0)) / (X.max(axis = 0)) - X.min(axis = 0)\n",
    "X_scaled = X_std*(max - min) + min\n",
    "\n",
    "\n",
    "trong do:\n",
    "    \n",
    "X là điểm dữ liệu cần chuẩn hóa, \n",
    "X_scaled là dữ liệu được chuẩn hóa,\n",
    "X_std là tỉ lệ chuẩn hóa, \n",
    "max và min là khoảng chuẩn hóa của giá trị."
   ]
  }
 ],
 "metadata": {
  "kernelspec": {
   "display_name": "Python 3 (ipykernel)",
   "language": "python",
   "name": "python3"
  },
  "language_info": {
   "codemirror_mode": {
    "name": "ipython",
    "version": 3
   },
   "file_extension": ".py",
   "mimetype": "text/x-python",
   "name": "python",
   "nbconvert_exporter": "python",
   "pygments_lexer": "ipython3",
   "version": "3.10.7"
  }
 },
 "nbformat": 4,
 "nbformat_minor": 5
}
