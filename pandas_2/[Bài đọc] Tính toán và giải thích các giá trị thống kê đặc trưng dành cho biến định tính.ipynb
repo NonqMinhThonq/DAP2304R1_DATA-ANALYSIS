{
 "cells": [
  {
   "cell_type": "code",
   "execution_count": 1,
   "id": "fdc8d2ea",
   "metadata": {
    "scrolled": false
   },
   "outputs": [
    {
     "data": {
      "text/html": [
       "<div>\n",
       "<style scoped>\n",
       "    .dataframe tbody tr th:only-of-type {\n",
       "        vertical-align: middle;\n",
       "    }\n",
       "\n",
       "    .dataframe tbody tr th {\n",
       "        vertical-align: top;\n",
       "    }\n",
       "\n",
       "    .dataframe thead th {\n",
       "        text-align: right;\n",
       "    }\n",
       "</style>\n",
       "<table border=\"1\" class=\"dataframe\">\n",
       "  <thead>\n",
       "    <tr style=\"text-align: right;\">\n",
       "      <th></th>\n",
       "      <th>Place</th>\n",
       "      <th>ProductId</th>\n",
       "      <th>ProductName</th>\n",
       "      <th>UmId</th>\n",
       "      <th>UmName</th>\n",
       "      <th>Month</th>\n",
       "      <th>Year</th>\n",
       "      <th>Price</th>\n",
       "    </tr>\n",
       "  </thead>\n",
       "  <tbody>\n",
       "    <tr>\n",
       "      <th>0</th>\n",
       "      <td>National Average</td>\n",
       "      <td>52</td>\n",
       "      <td>Rice - Retail</td>\n",
       "      <td>5</td>\n",
       "      <td>KG</td>\n",
       "      <td>5</td>\n",
       "      <td>2013</td>\n",
       "      <td>4.4920</td>\n",
       "    </tr>\n",
       "    <tr>\n",
       "      <th>1</th>\n",
       "      <td>National Average</td>\n",
       "      <td>52</td>\n",
       "      <td>Rice - Retail</td>\n",
       "      <td>5</td>\n",
       "      <td>KG</td>\n",
       "      <td>6</td>\n",
       "      <td>2013</td>\n",
       "      <td>4.5786</td>\n",
       "    </tr>\n",
       "    <tr>\n",
       "      <th>2</th>\n",
       "      <td>National Average</td>\n",
       "      <td>52</td>\n",
       "      <td>Rice - Retail</td>\n",
       "      <td>5</td>\n",
       "      <td>KG</td>\n",
       "      <td>11</td>\n",
       "      <td>2013</td>\n",
       "      <td>4.7865</td>\n",
       "    </tr>\n",
       "    <tr>\n",
       "      <th>3</th>\n",
       "      <td>National Average</td>\n",
       "      <td>52</td>\n",
       "      <td>Rice - Retail</td>\n",
       "      <td>5</td>\n",
       "      <td>KG</td>\n",
       "      <td>12</td>\n",
       "      <td>2013</td>\n",
       "      <td>5.1337</td>\n",
       "    </tr>\n",
       "    <tr>\n",
       "      <th>4</th>\n",
       "      <td>National Average</td>\n",
       "      <td>52</td>\n",
       "      <td>Rice - Retail</td>\n",
       "      <td>5</td>\n",
       "      <td>KG</td>\n",
       "      <td>1</td>\n",
       "      <td>2014</td>\n",
       "      <td>5.5099</td>\n",
       "    </tr>\n",
       "    <tr>\n",
       "      <th>...</th>\n",
       "      <td>...</td>\n",
       "      <td>...</td>\n",
       "      <td>...</td>\n",
       "      <td>...</td>\n",
       "      <td>...</td>\n",
       "      <td>...</td>\n",
       "      <td>...</td>\n",
       "      <td>...</td>\n",
       "    </tr>\n",
       "    <tr>\n",
       "      <th>7376</th>\n",
       "      <td>Izmir</td>\n",
       "      <td>502</td>\n",
       "      <td>Cocoa (powder) - Retail</td>\n",
       "      <td>5</td>\n",
       "      <td>KG</td>\n",
       "      <td>8</td>\n",
       "      <td>2019</td>\n",
       "      <td>47.9040</td>\n",
       "    </tr>\n",
       "    <tr>\n",
       "      <th>7377</th>\n",
       "      <td>Izmir</td>\n",
       "      <td>502</td>\n",
       "      <td>Cocoa (powder) - Retail</td>\n",
       "      <td>5</td>\n",
       "      <td>KG</td>\n",
       "      <td>9</td>\n",
       "      <td>2019</td>\n",
       "      <td>49.1176</td>\n",
       "    </tr>\n",
       "    <tr>\n",
       "      <th>7378</th>\n",
       "      <td>Izmir</td>\n",
       "      <td>502</td>\n",
       "      <td>Cocoa (powder) - Retail</td>\n",
       "      <td>5</td>\n",
       "      <td>KG</td>\n",
       "      <td>10</td>\n",
       "      <td>2019</td>\n",
       "      <td>50.8347</td>\n",
       "    </tr>\n",
       "    <tr>\n",
       "      <th>7379</th>\n",
       "      <td>Izmir</td>\n",
       "      <td>502</td>\n",
       "      <td>Cocoa (powder) - Retail</td>\n",
       "      <td>5</td>\n",
       "      <td>KG</td>\n",
       "      <td>11</td>\n",
       "      <td>2019</td>\n",
       "      <td>51.7985</td>\n",
       "    </tr>\n",
       "    <tr>\n",
       "      <th>7380</th>\n",
       "      <td>Izmir</td>\n",
       "      <td>502</td>\n",
       "      <td>Cocoa (powder) - Retail</td>\n",
       "      <td>5</td>\n",
       "      <td>KG</td>\n",
       "      <td>12</td>\n",
       "      <td>2019</td>\n",
       "      <td>51.6071</td>\n",
       "    </tr>\n",
       "  </tbody>\n",
       "</table>\n",
       "<p>7381 rows × 8 columns</p>\n",
       "</div>"
      ],
      "text/plain": [
       "                 Place  ProductId              ProductName  UmId UmName  \\\n",
       "0     National Average         52            Rice - Retail     5     KG   \n",
       "1     National Average         52            Rice - Retail     5     KG   \n",
       "2     National Average         52            Rice - Retail     5     KG   \n",
       "3     National Average         52            Rice - Retail     5     KG   \n",
       "4     National Average         52            Rice - Retail     5     KG   \n",
       "...                ...        ...                      ...   ...    ...   \n",
       "7376             Izmir        502  Cocoa (powder) - Retail     5     KG   \n",
       "7377             Izmir        502  Cocoa (powder) - Retail     5     KG   \n",
       "7378             Izmir        502  Cocoa (powder) - Retail     5     KG   \n",
       "7379             Izmir        502  Cocoa (powder) - Retail     5     KG   \n",
       "7380             Izmir        502  Cocoa (powder) - Retail     5     KG   \n",
       "\n",
       "      Month  Year    Price  \n",
       "0         5  2013   4.4920  \n",
       "1         6  2013   4.5786  \n",
       "2        11  2013   4.7865  \n",
       "3        12  2013   5.1337  \n",
       "4         1  2014   5.5099  \n",
       "...     ...   ...      ...  \n",
       "7376      8  2019  47.9040  \n",
       "7377      9  2019  49.1176  \n",
       "7378     10  2019  50.8347  \n",
       "7379     11  2019  51.7985  \n",
       "7380     12  2019  51.6071  \n",
       "\n",
       "[7381 rows x 8 columns]"
      ]
     },
     "execution_count": 1,
     "metadata": {},
     "output_type": "execute_result"
    }
   ],
   "source": [
    "#Đọc bộ dữ liệu:\n",
    "\n",
    "import pandas as pd\n",
    "df = pd.read_csv(r\"D:\\DAP2304R1_DATA-ANALYSIS\\pandas_2\\DATA\\FoodPrice_in_Turkey.csv\")\n",
    "df"
   ]
  },
  {
   "cell_type": "code",
   "execution_count": 2,
   "id": "d36341c9",
   "metadata": {},
   "outputs": [],
   "source": [
    "#Xét biến định tính Place:\n",
    "\n",
    "df_place = df.loc[:,'Place']"
   ]
  },
  {
   "cell_type": "code",
   "execution_count": 3,
   "id": "61082512",
   "metadata": {},
   "outputs": [
    {
     "data": {
      "text/plain": [
       "National Average    2633\n",
       "Istanbul            1583\n",
       "Izmir               1583\n",
       "Ankara              1582\n",
       "Name: Place, dtype: int64"
      ]
     },
     "execution_count": 3,
     "metadata": {},
     "output_type": "execute_result"
    }
   ],
   "source": [
    "df['Place'].value_counts()"
   ]
  },
  {
   "cell_type": "code",
   "execution_count": 4,
   "id": "843d3278",
   "metadata": {},
   "outputs": [
    {
     "data": {
      "text/plain": [
       "7381"
      ]
     },
     "execution_count": 4,
     "metadata": {},
     "output_type": "execute_result"
    }
   ],
   "source": [
    "#count – Đếm tần suất xuất hiện của biến định tính\n",
    "\n",
    "df_place.count()"
   ]
  },
  {
   "cell_type": "code",
   "execution_count": 5,
   "id": "1950010f",
   "metadata": {},
   "outputs": [
    {
     "data": {
      "text/plain": [
       "'Ankara'"
      ]
     },
     "execution_count": 5,
     "metadata": {},
     "output_type": "execute_result"
    }
   ],
   "source": [
    "#min – Trả về giá trị có độ dài nhỏ nhất của biến tính\n",
    "\n",
    "df_place.min()"
   ]
  },
  {
   "cell_type": "code",
   "execution_count": 6,
   "id": "3040c159",
   "metadata": {},
   "outputs": [
    {
     "data": {
      "text/plain": [
       "'National Average'"
      ]
     },
     "execution_count": 6,
     "metadata": {},
     "output_type": "execute_result"
    }
   ],
   "source": [
    "#max – Trả về giá trị có độ dài lớn nhất của biến tính\n",
    "\n",
    "df_place.max()"
   ]
  },
  {
   "cell_type": "code",
   "execution_count": 7,
   "id": "e6c21b4d",
   "metadata": {},
   "outputs": [
    {
     "data": {
      "text/plain": [
       "0    National Average\n",
       "Name: Place, dtype: object"
      ]
     },
     "execution_count": 7,
     "metadata": {},
     "output_type": "execute_result"
    }
   ],
   "source": [
    "#mode – Tính giá trị xuất hiện nhiều nhất của biến định tính\n",
    "\n",
    "df_place.mode()"
   ]
  }
 ],
 "metadata": {
  "kernelspec": {
   "display_name": "Python 3 (ipykernel)",
   "language": "python",
   "name": "python3"
  },
  "language_info": {
   "codemirror_mode": {
    "name": "ipython",
    "version": 3
   },
   "file_extension": ".py",
   "mimetype": "text/x-python",
   "name": "python",
   "nbconvert_exporter": "python",
   "pygments_lexer": "ipython3",
   "version": "3.10.7"
  }
 },
 "nbformat": 4,
 "nbformat_minor": 5
}
