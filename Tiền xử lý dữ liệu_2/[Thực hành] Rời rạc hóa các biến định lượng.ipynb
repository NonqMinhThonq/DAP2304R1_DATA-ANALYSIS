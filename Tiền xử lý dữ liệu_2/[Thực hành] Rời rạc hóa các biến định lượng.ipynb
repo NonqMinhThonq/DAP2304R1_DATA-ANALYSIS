{
 "cells": [
  {
   "cell_type": "code",
   "execution_count": 1,
   "id": "1120a410",
   "metadata": {},
   "outputs": [
    {
     "data": {
      "text/plain": [
       "12"
      ]
     },
     "execution_count": 1,
     "metadata": {},
     "output_type": "execute_result"
    }
   ],
   "source": [
    "import pandas as pd\n",
    "import numpy as np\n",
    "\n",
    "ages = [20, 22, 25, 27, 21, 23, 37, 31, 61, 45, 41, 32]\n",
    "len(ages)"
   ]
  },
  {
   "cell_type": "code",
   "execution_count": 2,
   "id": "2fa8f691",
   "metadata": {},
   "outputs": [],
   "source": [
    "# define the range of group values\n",
    "bins = [18, 25, 35, 60, 100]"
   ]
  },
  {
   "cell_type": "code",
   "execution_count": 3,
   "id": "49703be0",
   "metadata": {},
   "outputs": [],
   "source": [
    "# perform discretization\n",
    "cats = pd.cut(ages, bins)"
   ]
  },
  {
   "cell_type": "code",
   "execution_count": 4,
   "id": "98b37e5a",
   "metadata": {},
   "outputs": [
    {
     "data": {
      "text/plain": [
       "[(18, 25], (18, 25], (18, 25], (25, 35], (18, 25], ..., (25, 35], (60, 100], (35, 60], (35, 60], (25, 35]]\n",
       "Length: 12\n",
       "Categories (4, interval[int64, right]): [(18, 25] < (25, 35] < (35, 60] < (60, 100]]"
      ]
     },
     "execution_count": 4,
     "metadata": {},
     "output_type": "execute_result"
    }
   ],
   "source": [
    "cats"
   ]
  },
  {
   "cell_type": "code",
   "execution_count": 5,
   "id": "8a74033c",
   "metadata": {},
   "outputs": [
    {
     "data": {
      "text/plain": [
       "array([0, 0, 0, 1, 0, 0, 2, 1, 3, 2, 2, 1], dtype=int8)"
      ]
     },
     "execution_count": 5,
     "metadata": {},
     "output_type": "execute_result"
    }
   ],
   "source": [
    "# get the index of the group corresponding to the elements\n",
    "cats.codes"
   ]
  },
  {
   "cell_type": "code",
   "execution_count": 6,
   "id": "4e921f92",
   "metadata": {},
   "outputs": [
    {
     "data": {
      "text/plain": [
       "IntervalIndex([(18, 25], (25, 35], (35, 60], (60, 100]], dtype='interval[int64, right]')"
      ]
     },
     "execution_count": 6,
     "metadata": {},
     "output_type": "execute_result"
    }
   ],
   "source": [
    "# take out group\n",
    "cats.categories"
   ]
  },
  {
   "cell_type": "code",
   "execution_count": 7,
   "id": "8fa23715",
   "metadata": {},
   "outputs": [
    {
     "data": {
      "text/plain": [
       "(18, 25]     5\n",
       "(25, 35]     3\n",
       "(35, 60]     3\n",
       "(60, 100]    1\n",
       "dtype: int64"
      ]
     },
     "execution_count": 7,
     "metadata": {},
     "output_type": "execute_result"
    }
   ],
   "source": [
    "# statistics of the number of elements in each group\n",
    "pd.value_counts(cats)"
   ]
  },
  {
   "cell_type": "markdown",
   "id": "bfcfb118",
   "metadata": {},
   "source": [
    "ĐỒng nhất với ký hiệu toán học cho các khoảng, dấu ngoặc đơn có nghĩa là cạnh đó mở, trong khi dấu ngoặc vuông có nghĩa là cạnh đó bị đóng (bao gồm). Chúng ta có thể thay đổi phía bị đóng bằng cách truyền vào tham số right = False:"
   ]
  },
  {
   "cell_type": "code",
   "execution_count": 8,
   "id": "28c3c392",
   "metadata": {},
   "outputs": [
    {
     "data": {
      "text/plain": [
       "[[18, 26), [18, 26), [18, 26), [26, 36), [18, 26), ..., [26, 36), [61, 100), [36, 61), [36, 61), [26, 36)]\n",
       "Length: 12\n",
       "Categories (4, interval[int64, left]): [[18, 26) < [26, 36) < [36, 61) < [61, 100)]"
      ]
     },
     "execution_count": 8,
     "metadata": {},
     "output_type": "execute_result"
    }
   ],
   "source": [
    "pd.cut(ages, [18, 26, 36, 61, 100], right = False)"
   ]
  },
  {
   "cell_type": "code",
   "execution_count": 9,
   "id": "baf0316c",
   "metadata": {},
   "outputs": [],
   "source": [
    "# label list\n",
    "group_names = ['young', 'youadult', 'middleaged', 'senior']\n",
    "\n",
    "e = pd.cut(ages, bins, labels = group_names)"
   ]
  },
  {
   "cell_type": "code",
   "execution_count": 10,
   "id": "fbc0e33f",
   "metadata": {},
   "outputs": [
    {
     "data": {
      "text/plain": [
       "young         5\n",
       "youadult      3\n",
       "middleaged    3\n",
       "senior        1\n",
       "dtype: int64"
      ]
     },
     "execution_count": 10,
     "metadata": {},
     "output_type": "execute_result"
    }
   ],
   "source": [
    "pd.value_counts(e)"
   ]
  },
  {
   "cell_type": "code",
   "execution_count": 11,
   "id": "1a824e63",
   "metadata": {},
   "outputs": [
    {
     "data": {
      "text/plain": [
       "(18, 25]     5\n",
       "(25, 35]     3\n",
       "(35, 60]     3\n",
       "(60, 100]    1\n",
       "dtype: int64"
      ]
     },
     "execution_count": 11,
     "metadata": {},
     "output_type": "execute_result"
    }
   ],
   "source": [
    "#thống kê số lượng phần tử\n",
    "pd.value_counts(cats)"
   ]
  },
  {
   "cell_type": "code",
   "execution_count": 12,
   "id": "7c84c5d7",
   "metadata": {},
   "outputs": [
    {
     "data": {
      "text/plain": [
       "array([0.79261026, 0.23273618, 0.1669574 , 0.5962159 , 0.33412832,\n",
       "       0.19181783, 0.30096441, 0.32397483, 0.52006658, 0.60389385,\n",
       "       0.00701365, 0.89258772, 0.74987361, 0.29197728, 0.22141516,\n",
       "       0.37367598, 0.79534384, 0.53758217, 0.93414662, 0.92527713])"
      ]
     },
     "execution_count": 12,
     "metadata": {},
     "output_type": "execute_result"
    }
   ],
   "source": [
    "# generate random data of 20 elements\n",
    "data = np.random.rand(20)\n",
    "data"
   ]
  },
  {
   "cell_type": "code",
   "execution_count": 13,
   "id": "507f88b5",
   "metadata": {},
   "outputs": [
    {
     "data": {
      "text/plain": [
       "[(0.7, 0.93], (0.0061, 0.24], (0.0061, 0.24], (0.47, 0.7], (0.24, 0.47], ..., (0.24, 0.47], (0.7, 0.93], (0.47, 0.7], (0.7, 0.93], (0.7, 0.93]]\n",
       "Length: 20\n",
       "Categories (4, interval[float64, right]): [(0.0061, 0.24] < (0.24, 0.47] < (0.47, 0.7] < (0.7, 0.93]]"
      ]
     },
     "execution_count": 13,
     "metadata": {},
     "output_type": "execute_result"
    }
   ],
   "source": [
    "cut_data = pd.cut(data, 4, precision = 2)\n",
    "cut_data"
   ]
  },
  {
   "cell_type": "code",
   "execution_count": 14,
   "id": "22f028e7",
   "metadata": {},
   "outputs": [
    {
     "data": {
      "text/plain": [
       "(0.7, 0.93]       6\n",
       "(0.0061, 0.24]    5\n",
       "(0.24, 0.47]      5\n",
       "(0.47, 0.7]       4\n",
       "dtype: int64"
      ]
     },
     "execution_count": 14,
     "metadata": {},
     "output_type": "execute_result"
    }
   ],
   "source": [
    "pd.value_counts(cut_data)"
   ]
  },
  {
   "cell_type": "code",
   "execution_count": 15,
   "id": "0d5daa1d",
   "metadata": {},
   "outputs": [],
   "source": [
    "# randomly generate 100 data points\n",
    "df = np.random.randn(1000)"
   ]
  },
  {
   "cell_type": "code",
   "execution_count": 16,
   "id": "cd47890b",
   "metadata": {},
   "outputs": [],
   "source": [
    "# execute qcut function on generated data\n",
    "dogs = pd.qcut(df, 4)"
   ]
  },
  {
   "cell_type": "code",
   "execution_count": 17,
   "id": "1d9c12b6",
   "metadata": {},
   "outputs": [
    {
     "data": {
      "text/plain": [
       "(-3.174, -0.699]     250\n",
       "(-0.699, -0.0488]    250\n",
       "(-0.0488, 0.619]     250\n",
       "(0.619, 2.813]       250\n",
       "dtype: int64"
      ]
     },
     "execution_count": 17,
     "metadata": {},
     "output_type": "execute_result"
    }
   ],
   "source": [
    "pd.value_counts(dogs)"
   ]
  },
  {
   "cell_type": "code",
   "execution_count": 19,
   "id": "ba7e291f",
   "metadata": {},
   "outputs": [
    {
     "data": {
      "text/plain": [
       "[(0.447, 0.896], (0.189, 0.447], (0.00601, 0.189], (0.447, 0.896], (0.189, 0.447], ..., (0.189, 0.447], (0.447, 0.896], (0.447, 0.896], (0.896, 0.934], (0.896, 0.934]]\n",
       "Length: 20\n",
       "Categories (4, interval[float64, right]): [(0.00601, 0.189] < (0.189, 0.447] < (0.447, 0.896] < (0.896, 0.934]]"
      ]
     },
     "execution_count": 19,
     "metadata": {},
     "output_type": "execute_result"
    }
   ],
   "source": [
    "pd.qcut(data, [0, 0.1, 0.5, 0.9, 1.])"
   ]
  },
  {
   "cell_type": "code",
   "execution_count": null,
   "id": "40b11534",
   "metadata": {},
   "outputs": [],
   "source": [
    "through this exercise, we learned how to disretize data"
   ]
  }
 ],
 "metadata": {
  "kernelspec": {
   "display_name": "Python 3 (ipykernel)",
   "language": "python",
   "name": "python3"
  },
  "language_info": {
   "codemirror_mode": {
    "name": "ipython",
    "version": 3
   },
   "file_extension": ".py",
   "mimetype": "text/x-python",
   "name": "python",
   "nbconvert_exporter": "python",
   "pygments_lexer": "ipython3",
   "version": "3.10.7"
  }
 },
 "nbformat": 4,
 "nbformat_minor": 5
}
